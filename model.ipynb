{
 "cells": [
  {
   "cell_type": "markdown",
   "metadata": {},
   "source": [
    "### Import Libraries"
   ]
  },
  {
   "cell_type": "code",
   "execution_count": 115,
   "metadata": {},
   "outputs": [
    {
     "name": "stderr",
     "output_type": "stream",
     "text": [
      "[nltk_data] Downloading package stopwords to\n",
      "[nltk_data]     C:\\Users\\Gumo\\AppData\\Roaming\\nltk_data...\n",
      "[nltk_data]   Package stopwords is already up-to-date!\n",
      "[nltk_data] Downloading package words to\n",
      "[nltk_data]     C:\\Users\\Gumo\\AppData\\Roaming\\nltk_data...\n",
      "[nltk_data]   Package words is already up-to-date!\n"
     ]
    }
   ],
   "source": [
    "# Data processing\n",
    "import pandas as pd\n",
    "import numpy as np\n",
    "\n",
    "# Data visualization\n",
    "import seaborn as sns\n",
    "import matplotlib.pyplot as plt\n",
    "import matplotlib as mpl\n",
    "sns.set_theme(style=\"whitegrid\") # all charts will have a light grid\n",
    "# from wordcloud import WordCloud, STOPWORDS\n",
    "from nltk.probability import FreqDist\n",
    "\n",
    "# Deeo learning\n",
    "import tensorflow as tf\n",
    "\n",
    "# Text valuation/detection\n",
    "import langid\n",
    "from nltk.sentiment.vader import SentimentIntensityAnalyzer as SIA\n",
    "\n",
    "# Text Preprocessing\n",
    "import re\n",
    "import string\n",
    "import nltk\n",
    "from nltk.corpus import stopwords \n",
    "nltk.download('stopwords')\n",
    "nltk.download('words')\n",
    "words = set(nltk.corpus.words.words())\n",
    "import spacy\n",
    "from spacy import displacy\n",
    "# Text stemming\n",
    "from nltk.stem.porter import * \n",
    "# Text Vectorization\n",
    "from tensorflow.keras.preprocessing.text import Tokenizer  \n",
    "# padding sequences\n",
    "from tensorflow.keras.preprocessing.sequence import pad_sequences\n",
    "\n",
    "# model featuring\n",
    "from sklearn.model_selection import train_test_split\n",
    "from tensorflow.keras.optimizers import SGD, RMSprop\n",
    "from tensorflow.keras.callbacks import ModelCheckpoint, LearningRateScheduler, History\n",
    "from tensorflow.keras.models import load_model\n",
    "\n",
    "# model \n",
    "from tensorflow.keras.models import Sequential\n",
    "from tensorflow.keras.layers import Embedding, Conv1D, MaxPooling1D, Bidirectional, LSTM, Dense, Dropout, Flatten, SpatialDropout1D\n",
    "\n",
    "# Analyze results\n",
    "from sklearn.metrics import confusion_matrix\n",
    "from keras.metrics import Precision, Recall\n",
    "\n",
    "# Misc\n",
    "import pickle\n",
    "import os\n",
    "import glob\n",
    "import warnings\n",
    "warnings.filterwarnings(\"ignore\")\n",
    "import datetime as dt"
   ]
  },
  {
   "cell_type": "code",
   "execution_count": 50,
   "metadata": {},
   "outputs": [
    {
     "data": {
      "text/plain": [
       "{'encoding': 'Windows-1252', 'confidence': 0.73, 'language': ''}"
      ]
     },
     "execution_count": 50,
     "metadata": {},
     "output_type": "execute_result"
    }
   ],
   "source": [
    "# read encoding of the file, so we can import it.\n",
    "import chardet\n",
    "with open('data_model/all-data.csv', 'rb') as rawdata:\n",
    "    result = chardet.detect(rawdata.read(100000))\n",
    "result"
   ]
  },
  {
   "cell_type": "markdown",
   "metadata": {},
   "source": [
    "### Functions"
   ]
  },
  {
   "cell_type": "code",
   "execution_count": 63,
   "metadata": {},
   "outputs": [],
   "source": [
    "def tweet_to_words(tweet):\n",
    "    ''' Convert tweet text into a sequence of words '''\n",
    "    \n",
    "    # convert to lowercase\n",
    "    text = tweet.lower()\n",
    "    # remove non letters\n",
    "    text = re.sub(r\"[^a-zA-Z0-9]\", \" \", text)\n",
    "    # tokenize\n",
    "    words = text.split()\n",
    "\n",
    "    wds =stopwords.words(\"english\")\n",
    "    wds.remove('not')\n",
    "    # remove stopwords\n",
    "    words = [w for w in words if w not in wds]\n",
    "    # apply stemming\n",
    "    words = [PorterStemmer().stem(w) for w in words]\n",
    "    # return list\n",
    "    return words\n",
    "\n",
    "# remove url\n",
    "def remove_url(txt):\n",
    "    return \" \".join(re.sub(\"([-a-zA-Z0-9@:%_\\+.~#?&//=]{2,256}\\.[a-z]{2,4}\\b(\\/[-a-zA-Z0-9@:%_\\+.~#?&//=]*)?)\", \"\", txt).split())\n",
    "#remove hashtag #\n",
    "def remove_hashtag(txt):\n",
    "    return \" \".join(re.sub(\"([#]+)([0-9A-Z_]*[A-Z_]+[a-z0-9_üÀ-ÖØ-öø-ÿ]*)\", \"\", txt).split())\n",
    "# remove mention @\n",
    "def remove_at(txt):\n",
    "    return \" \".join(re.sub(\"(\\@[a-zA-Z0-9_%]*)\", \"\", txt).split())\n",
    "\n",
    "# remove stopwords and puncturations\n",
    "def get_text_processing(text):\n",
    "    stpword = stopwords.words('english')\n",
    "    stpword.remove('not')\n",
    "    no_punctuation = [char for char in text if char not in string.punctuation]\n",
    "    no_punctuation = ''.join(no_punctuation)\n",
    "    return ' '.join([word for word in no_punctuation.split() if word.lower() not in stpword])\n",
    "\n",
    "\n",
    "\n",
    "# remove #, @, url, stopwords, punctuations, stemming\n",
    "def removeFunc(a):\n",
    "    x = remove_at(a)\n",
    "    x = remove_hashtag(x)\n",
    "    x = remove_url(x)\n",
    "    x= get_text_processing(x.lower())\n",
    "    return x\n",
    "\n",
    "# Max length of review\n",
    "def get_max_length(x):\n",
    "    review_length = []\n",
    "    for review in x:\n",
    "        review_length.append(len(review))\n",
    "\n",
    "    return int(np.ceil(np.mean(review_length)))"
   ]
  },
  {
   "cell_type": "markdown",
   "metadata": {},
   "source": [
    "## Import Data/Cleaning"
   ]
  },
  {
   "cell_type": "markdown",
   "metadata": {},
   "source": [
    "### Data Loading"
   ]
  },
  {
   "cell_type": "code",
   "execution_count": 29,
   "metadata": {},
   "outputs": [],
   "source": [
    "df1 = pd.read_csv('data_model/Twitter_Data.csv')\n",
    "df2 = pd.read_csv('data_model/apple-twitter-sentiment-texts.csv')\n",
    "df3 = pd.read_csv('data_model/Reddit_Data.csv')\n",
    "df4 = pd.read_csv('data_model/all-data.csv',encoding='Windows-1252',usecols=[0,1],names=['category','text'])"
   ]
  },
  {
   "cell_type": "code",
   "execution_count": 30,
   "metadata": {},
   "outputs": [
    {
     "data": {
      "text/html": [
       "<div>\n",
       "<style scoped>\n",
       "    .dataframe tbody tr th:only-of-type {\n",
       "        vertical-align: middle;\n",
       "    }\n",
       "\n",
       "    .dataframe tbody tr th {\n",
       "        vertical-align: top;\n",
       "    }\n",
       "\n",
       "    .dataframe thead th {\n",
       "        text-align: right;\n",
       "    }\n",
       "</style>\n",
       "<table border=\"1\" class=\"dataframe\">\n",
       "  <thead>\n",
       "    <tr style=\"text-align: right;\">\n",
       "      <th></th>\n",
       "      <th>clean_text</th>\n",
       "      <th>category</th>\n",
       "    </tr>\n",
       "  </thead>\n",
       "  <tbody>\n",
       "    <tr>\n",
       "      <th>0</th>\n",
       "      <td>when modi promised “minimum government maximum...</td>\n",
       "      <td>-1.0</td>\n",
       "    </tr>\n",
       "  </tbody>\n",
       "</table>\n",
       "</div>"
      ],
      "text/plain": [
       "                                          clean_text  category\n",
       "0  when modi promised “minimum government maximum...      -1.0"
      ]
     },
     "execution_count": 30,
     "metadata": {},
     "output_type": "execute_result"
    }
   ],
   "source": [
    "df1.head(1)"
   ]
  },
  {
   "cell_type": "code",
   "execution_count": 31,
   "metadata": {},
   "outputs": [
    {
     "data": {
      "text/html": [
       "<div>\n",
       "<style scoped>\n",
       "    .dataframe tbody tr th:only-of-type {\n",
       "        vertical-align: middle;\n",
       "    }\n",
       "\n",
       "    .dataframe tbody tr th {\n",
       "        vertical-align: top;\n",
       "    }\n",
       "\n",
       "    .dataframe thead th {\n",
       "        text-align: right;\n",
       "    }\n",
       "</style>\n",
       "<table border=\"1\" class=\"dataframe\">\n",
       "  <thead>\n",
       "    <tr style=\"text-align: right;\">\n",
       "      <th></th>\n",
       "      <th>clean_text</th>\n",
       "      <th>category</th>\n",
       "    </tr>\n",
       "  </thead>\n",
       "  <tbody>\n",
       "    <tr>\n",
       "      <th>0</th>\n",
       "      <td>Wow. Yall needa step it up @Apple RT @heynyla:...</td>\n",
       "      <td>-1.0</td>\n",
       "    </tr>\n",
       "  </tbody>\n",
       "</table>\n",
       "</div>"
      ],
      "text/plain": [
       "                                          clean_text  category\n",
       "0  Wow. Yall needa step it up @Apple RT @heynyla:...      -1.0"
      ]
     },
     "execution_count": 31,
     "metadata": {},
     "output_type": "execute_result"
    }
   ],
   "source": [
    "# rename columns\n",
    "df2 = df2.rename(columns={'text': 'clean_text', 'sentiment':'category'})\n",
    "# change values\n",
    "df2['category'] = df2['category'].map({-1: -1.0, 0: 0.0, 1:1.0})\n",
    "df2.head(1)"
   ]
  },
  {
   "cell_type": "code",
   "execution_count": 32,
   "metadata": {},
   "outputs": [
    {
     "data": {
      "text/html": [
       "<div>\n",
       "<style scoped>\n",
       "    .dataframe tbody tr th:only-of-type {\n",
       "        vertical-align: middle;\n",
       "    }\n",
       "\n",
       "    .dataframe tbody tr th {\n",
       "        vertical-align: top;\n",
       "    }\n",
       "\n",
       "    .dataframe thead th {\n",
       "        text-align: right;\n",
       "    }\n",
       "</style>\n",
       "<table border=\"1\" class=\"dataframe\">\n",
       "  <thead>\n",
       "    <tr style=\"text-align: right;\">\n",
       "      <th></th>\n",
       "      <th>clean_text</th>\n",
       "      <th>category</th>\n",
       "    </tr>\n",
       "  </thead>\n",
       "  <tbody>\n",
       "    <tr>\n",
       "      <th>0</th>\n",
       "      <td>family mormon have never tried explain them t...</td>\n",
       "      <td>1.0</td>\n",
       "    </tr>\n",
       "  </tbody>\n",
       "</table>\n",
       "</div>"
      ],
      "text/plain": [
       "                                          clean_text  category\n",
       "0   family mormon have never tried explain them t...       1.0"
      ]
     },
     "execution_count": 32,
     "metadata": {},
     "output_type": "execute_result"
    }
   ],
   "source": [
    "# rename columns\n",
    "df3 = df3.rename(columns={'clean_comment': 'clean_text'})\n",
    "# change values\n",
    "df3['category'] = df3['category'].map({-1: -1.0, 0: 0.0, 1:1.0})\n",
    "df3.head(1)"
   ]
  },
  {
   "cell_type": "code",
   "execution_count": 33,
   "metadata": {},
   "outputs": [
    {
     "data": {
      "text/html": [
       "<div>\n",
       "<style scoped>\n",
       "    .dataframe tbody tr th:only-of-type {\n",
       "        vertical-align: middle;\n",
       "    }\n",
       "\n",
       "    .dataframe tbody tr th {\n",
       "        vertical-align: top;\n",
       "    }\n",
       "\n",
       "    .dataframe thead th {\n",
       "        text-align: right;\n",
       "    }\n",
       "</style>\n",
       "<table border=\"1\" class=\"dataframe\">\n",
       "  <thead>\n",
       "    <tr style=\"text-align: right;\">\n",
       "      <th></th>\n",
       "      <th>clean_text</th>\n",
       "      <th>category</th>\n",
       "    </tr>\n",
       "  </thead>\n",
       "  <tbody>\n",
       "    <tr>\n",
       "      <th>0</th>\n",
       "      <td>According to Gran , the company has no plans t...</td>\n",
       "      <td>0.0</td>\n",
       "    </tr>\n",
       "  </tbody>\n",
       "</table>\n",
       "</div>"
      ],
      "text/plain": [
       "                                          clean_text  category\n",
       "0  According to Gran , the company has no plans t...       0.0"
      ]
     },
     "execution_count": 33,
     "metadata": {},
     "output_type": "execute_result"
    }
   ],
   "source": [
    "# rename columns\n",
    "df4 = df4.rename(columns={'text': 'clean_text'})\n",
    "# reorder columns\n",
    "df4 = df4[['clean_text', 'category']]\n",
    "# change values\n",
    "df4['category'] = df4['category'].map({'negative': -1.0, 'neutral': 0.0, 'positive':1.0})\n",
    "df4.head(1)"
   ]
  },
  {
   "cell_type": "code",
   "execution_count": 34,
   "metadata": {},
   "outputs": [
    {
     "data": {
      "text/plain": [
       "(206705, 2)"
      ]
     },
     "execution_count": 34,
     "metadata": {},
     "output_type": "execute_result"
    }
   ],
   "source": [
    "df = pd.concat([df1, df2, df3, df4], ignore_index=True)\n",
    "df.shape"
   ]
  },
  {
   "cell_type": "code",
   "execution_count": 36,
   "metadata": {},
   "outputs": [
    {
     "data": {
      "text/plain": [
       "clean_text    104\n",
       "category        7\n",
       "dtype: int64"
      ]
     },
     "execution_count": 36,
     "metadata": {},
     "output_type": "execute_result"
    }
   ],
   "source": [
    "df.isnull().sum()"
   ]
  },
  {
   "cell_type": "code",
   "execution_count": 40,
   "metadata": {},
   "outputs": [
    {
     "data": {
      "text/plain": [
       "(206594, 2)"
      ]
     },
     "execution_count": 40,
     "metadata": {},
     "output_type": "execute_result"
    }
   ],
   "source": [
    "cleandf = df.dropna(axis=0)\n",
    "cleandf.shape"
   ]
  },
  {
   "cell_type": "code",
   "execution_count": 41,
   "metadata": {},
   "outputs": [
    {
     "data": {
      "text/plain": [
       "array([-1.,  0.,  1.])"
      ]
     },
     "execution_count": 41,
     "metadata": {},
     "output_type": "execute_result"
    }
   ],
   "source": [
    "cleandf.category.unique()"
   ]
  },
  {
   "cell_type": "code",
   "execution_count": 42,
   "metadata": {},
   "outputs": [
    {
     "data": {
      "text/html": [
       "<div>\n",
       "<style scoped>\n",
       "    .dataframe tbody tr th:only-of-type {\n",
       "        vertical-align: middle;\n",
       "    }\n",
       "\n",
       "    .dataframe tbody tr th {\n",
       "        vertical-align: top;\n",
       "    }\n",
       "\n",
       "    .dataframe thead th {\n",
       "        text-align: right;\n",
       "    }\n",
       "</style>\n",
       "<table border=\"1\" class=\"dataframe\">\n",
       "  <thead>\n",
       "    <tr style=\"text-align: right;\">\n",
       "      <th></th>\n",
       "      <th>text</th>\n",
       "      <th>score</th>\n",
       "    </tr>\n",
       "  </thead>\n",
       "  <tbody>\n",
       "    <tr>\n",
       "      <th>0</th>\n",
       "      <td>when modi promised “minimum government maximum...</td>\n",
       "      <td>-1.0</td>\n",
       "    </tr>\n",
       "  </tbody>\n",
       "</table>\n",
       "</div>"
      ],
      "text/plain": [
       "                                                text  score\n",
       "0  when modi promised “minimum government maximum...   -1.0"
      ]
     },
     "execution_count": 42,
     "metadata": {},
     "output_type": "execute_result"
    }
   ],
   "source": [
    "cleandf = cleandf.rename(columns={'clean_text':'text','category': 'score'})\n",
    "cleandf.head(1)"
   ]
  },
  {
   "cell_type": "code",
   "execution_count": 43,
   "metadata": {},
   "outputs": [],
   "source": [
    "cleandf.to_csv('data_model/merged_data.csv')"
   ]
  },
  {
   "cell_type": "markdown",
   "metadata": {},
   "source": [
    "### Text Cleaning"
   ]
  },
  {
   "cell_type": "code",
   "execution_count": 48,
   "metadata": {},
   "outputs": [
    {
     "data": {
      "text/html": [
       "<div>\n",
       "<style scoped>\n",
       "    .dataframe tbody tr th:only-of-type {\n",
       "        vertical-align: middle;\n",
       "    }\n",
       "\n",
       "    .dataframe tbody tr th {\n",
       "        vertical-align: top;\n",
       "    }\n",
       "\n",
       "    .dataframe thead th {\n",
       "        text-align: right;\n",
       "    }\n",
       "</style>\n",
       "<table border=\"1\" class=\"dataframe\">\n",
       "  <thead>\n",
       "    <tr style=\"text-align: right;\">\n",
       "      <th></th>\n",
       "      <th>text</th>\n",
       "      <th>score</th>\n",
       "      <th>category</th>\n",
       "    </tr>\n",
       "  </thead>\n",
       "  <tbody>\n",
       "    <tr>\n",
       "      <th>0</th>\n",
       "      <td>when modi promised “minimum government maximum...</td>\n",
       "      <td>-1.0</td>\n",
       "      <td>Negative</td>\n",
       "    </tr>\n",
       "    <tr>\n",
       "      <th>1</th>\n",
       "      <td>talk all the nonsense and continue all the dra...</td>\n",
       "      <td>0.0</td>\n",
       "      <td>Neutral</td>\n",
       "    </tr>\n",
       "    <tr>\n",
       "      <th>2</th>\n",
       "      <td>what did just say vote for modi  welcome bjp t...</td>\n",
       "      <td>1.0</td>\n",
       "      <td>Positive</td>\n",
       "    </tr>\n",
       "    <tr>\n",
       "      <th>3</th>\n",
       "      <td>asking his supporters prefix chowkidar their n...</td>\n",
       "      <td>1.0</td>\n",
       "      <td>Positive</td>\n",
       "    </tr>\n",
       "    <tr>\n",
       "      <th>4</th>\n",
       "      <td>answer who among these the most powerful world...</td>\n",
       "      <td>1.0</td>\n",
       "      <td>Positive</td>\n",
       "    </tr>\n",
       "  </tbody>\n",
       "</table>\n",
       "</div>"
      ],
      "text/plain": [
       "                                                text  score  category\n",
       "0  when modi promised “minimum government maximum...   -1.0  Negative\n",
       "1  talk all the nonsense and continue all the dra...    0.0   Neutral\n",
       "2  what did just say vote for modi  welcome bjp t...    1.0  Positive\n",
       "3  asking his supporters prefix chowkidar their n...    1.0  Positive\n",
       "4  answer who among these the most powerful world...    1.0  Positive"
      ]
     },
     "execution_count": 48,
     "metadata": {},
     "output_type": "execute_result"
    }
   ],
   "source": [
    "df=pd.read_csv('data_model/merged_data.csv',index_col=0)\n",
    "\n",
    "# create category column\n",
    "df['category'] = df['score'].map({-1.0:'Negative', 0.0:'Neutral', 1.0:'Positive'})\n",
    "df.head()"
   ]
  },
  {
   "cell_type": "code",
   "execution_count": 49,
   "metadata": {},
   "outputs": [
    {
     "data": {
      "text/plain": [
       "Text(0.5, 1.0, 'Sentiment Count')"
      ]
     },
     "execution_count": 49,
     "metadata": {},
     "output_type": "execute_result"
    },
    {
     "data": {
      "image/png": "[encoded data removed]",
      "text/plain": [
       "<Figure size 1440x720 with 1 Axes>"
      ]
     },
     "metadata": {},
     "output_type": "display_data"
    }
   ],
   "source": [
    "plt.figure(figsize=(20,10))\n",
    "# set theme\n",
    "sns.set_theme(style=\"whitegrid\")\n",
    "#countplot ploarity\n",
    "sns.countplot(x=df.category)\n",
    "\n",
    "plt.xlabel('Sentiment Category', fontsize=20)\n",
    "plt.ylabel('Count', fontsize = 20)\n",
    "plt.yticks(fontsize=18)\n",
    "plt.xticks(fontsize=18)\n",
    "plt.title('Sentiment Count', fontsize=30)"
   ]
  },
  {
   "cell_type": "code",
   "execution_count": 56,
   "metadata": {},
   "outputs": [
    {
     "data": {
      "text/html": [
       "<div>\n",
       "<style scoped>\n",
       "    .dataframe tbody tr th:only-of-type {\n",
       "        vertical-align: middle;\n",
       "    }\n",
       "\n",
       "    .dataframe tbody tr th {\n",
       "        vertical-align: top;\n",
       "    }\n",
       "\n",
       "    .dataframe thead th {\n",
       "        text-align: right;\n",
       "    }\n",
       "</style>\n",
       "<table border=\"1\" class=\"dataframe\">\n",
       "  <thead>\n",
       "    <tr style=\"text-align: right;\">\n",
       "      <th></th>\n",
       "      <th>text</th>\n",
       "      <th>score</th>\n",
       "      <th>category</th>\n",
       "      <th>filter_text</th>\n",
       "    </tr>\n",
       "  </thead>\n",
       "  <tbody>\n",
       "    <tr>\n",
       "      <th>0</th>\n",
       "      <td>when modi promised “minimum government maximum...</td>\n",
       "      <td>-1.0</td>\n",
       "      <td>Negative</td>\n",
       "      <td>modi promised “minimum government maximum gove...</td>\n",
       "    </tr>\n",
       "    <tr>\n",
       "      <th>1</th>\n",
       "      <td>talk all the nonsense and continue all the dra...</td>\n",
       "      <td>0.0</td>\n",
       "      <td>Neutral</td>\n",
       "      <td>talk nonsense continue drama vote modi</td>\n",
       "    </tr>\n",
       "    <tr>\n",
       "      <th>2</th>\n",
       "      <td>what did just say vote for modi  welcome bjp t...</td>\n",
       "      <td>1.0</td>\n",
       "      <td>Positive</td>\n",
       "      <td>say vote modi welcome bjp told rahul main camp...</td>\n",
       "    </tr>\n",
       "    <tr>\n",
       "      <th>3</th>\n",
       "      <td>asking his supporters prefix chowkidar their n...</td>\n",
       "      <td>1.0</td>\n",
       "      <td>Positive</td>\n",
       "      <td>asking supporters prefix chowkidar names modi ...</td>\n",
       "    </tr>\n",
       "    <tr>\n",
       "      <th>4</th>\n",
       "      <td>answer who among these the most powerful world...</td>\n",
       "      <td>1.0</td>\n",
       "      <td>Positive</td>\n",
       "      <td>answer among powerful world leader today trump...</td>\n",
       "    </tr>\n",
       "  </tbody>\n",
       "</table>\n",
       "</div>"
      ],
      "text/plain": [
       "                                                text  score  category  \\\n",
       "0  when modi promised “minimum government maximum...   -1.0  Negative   \n",
       "1  talk all the nonsense and continue all the dra...    0.0   Neutral   \n",
       "2  what did just say vote for modi  welcome bjp t...    1.0  Positive   \n",
       "3  asking his supporters prefix chowkidar their n...    1.0  Positive   \n",
       "4  answer who among these the most powerful world...    1.0  Positive   \n",
       "\n",
       "                                         filter_text  \n",
       "0  modi promised “minimum government maximum gove...  \n",
       "1             talk nonsense continue drama vote modi  \n",
       "2  say vote modi welcome bjp told rahul main camp...  \n",
       "3  asking supporters prefix chowkidar names modi ...  \n",
       "4  answer among powerful world leader today trump...  "
      ]
     },
     "execution_count": 56,
     "metadata": {},
     "output_type": "execute_result"
    }
   ],
   "source": [
    "df2 = df.copy()\n",
    "df2['filter_text'] = df.text.apply(removeFunc)\n",
    "df2.head()"
   ]
  },
  {
   "cell_type": "code",
   "execution_count": 61,
   "metadata": {},
   "outputs": [
    {
     "data": {
      "text/html": [
       "<div>\n",
       "<style scoped>\n",
       "    .dataframe tbody tr th:only-of-type {\n",
       "        vertical-align: middle;\n",
       "    }\n",
       "\n",
       "    .dataframe tbody tr th {\n",
       "        vertical-align: top;\n",
       "    }\n",
       "\n",
       "    .dataframe thead th {\n",
       "        text-align: right;\n",
       "    }\n",
       "</style>\n",
       "<table border=\"1\" class=\"dataframe\">\n",
       "  <thead>\n",
       "    <tr style=\"text-align: right;\">\n",
       "      <th></th>\n",
       "      <th>text</th>\n",
       "      <th>score</th>\n",
       "      <th>category</th>\n",
       "      <th>filter_text</th>\n",
       "      <th>split_text</th>\n",
       "    </tr>\n",
       "  </thead>\n",
       "  <tbody>\n",
       "    <tr>\n",
       "      <th>0</th>\n",
       "      <td>when modi promised “minimum government maximum...</td>\n",
       "      <td>-1.0</td>\n",
       "      <td>Negative</td>\n",
       "      <td>modi promised “minimum government maximum gove...</td>\n",
       "      <td>[modi, promis, minimum, govern, maximum, gover...</td>\n",
       "    </tr>\n",
       "    <tr>\n",
       "      <th>1</th>\n",
       "      <td>talk all the nonsense and continue all the dra...</td>\n",
       "      <td>0.0</td>\n",
       "      <td>Neutral</td>\n",
       "      <td>talk nonsense continue drama vote modi</td>\n",
       "      <td>[talk, nonsens, continu, drama, vote, modi]</td>\n",
       "    </tr>\n",
       "    <tr>\n",
       "      <th>2</th>\n",
       "      <td>what did just say vote for modi  welcome bjp t...</td>\n",
       "      <td>1.0</td>\n",
       "      <td>Positive</td>\n",
       "      <td>say vote modi welcome bjp told rahul main camp...</td>\n",
       "      <td>[say, vote, modi, welcom, bjp, told, rahul, ma...</td>\n",
       "    </tr>\n",
       "    <tr>\n",
       "      <th>3</th>\n",
       "      <td>asking his supporters prefix chowkidar their n...</td>\n",
       "      <td>1.0</td>\n",
       "      <td>Positive</td>\n",
       "      <td>asking supporters prefix chowkidar names modi ...</td>\n",
       "      <td>[ask, support, prefix, chowkidar, name, modi, ...</td>\n",
       "    </tr>\n",
       "    <tr>\n",
       "      <th>4</th>\n",
       "      <td>answer who among these the most powerful world...</td>\n",
       "      <td>1.0</td>\n",
       "      <td>Positive</td>\n",
       "      <td>answer among powerful world leader today trump...</td>\n",
       "      <td>[answer, among, power, world, leader, today, t...</td>\n",
       "    </tr>\n",
       "  </tbody>\n",
       "</table>\n",
       "</div>"
      ],
      "text/plain": [
       "                                                text  score  category  \\\n",
       "0  when modi promised “minimum government maximum...   -1.0  Negative   \n",
       "1  talk all the nonsense and continue all the dra...    0.0   Neutral   \n",
       "2  what did just say vote for modi  welcome bjp t...    1.0  Positive   \n",
       "3  asking his supporters prefix chowkidar their n...    1.0  Positive   \n",
       "4  answer who among these the most powerful world...    1.0  Positive   \n",
       "\n",
       "                                         filter_text  \\\n",
       "0  modi promised “minimum government maximum gove...   \n",
       "1             talk nonsense continue drama vote modi   \n",
       "2  say vote modi welcome bjp told rahul main camp...   \n",
       "3  asking supporters prefix chowkidar names modi ...   \n",
       "4  answer among powerful world leader today trump...   \n",
       "\n",
       "                                          split_text  \n",
       "0  [modi, promis, minimum, govern, maximum, gover...  \n",
       "1        [talk, nonsens, continu, drama, vote, modi]  \n",
       "2  [say, vote, modi, welcom, bjp, told, rahul, ma...  \n",
       "3  [ask, support, prefix, chowkidar, name, modi, ...  \n",
       "4  [answer, among, power, world, leader, today, t...  "
      ]
     },
     "execution_count": 61,
     "metadata": {},
     "output_type": "execute_result"
    }
   ],
   "source": [
    "df2['split_text'] = df2.filter_text.apply(tweet_to_words)\n",
    "df2.head()"
   ]
  },
  {
   "cell_type": "markdown",
   "metadata": {},
   "source": [
    "Text Vectorization"
   ]
  },
  {
   "cell_type": "code",
   "execution_count": 67,
   "metadata": {},
   "outputs": [
    {
     "data": {
      "text/plain": [
       "16"
      ]
     },
     "execution_count": 67,
     "metadata": {},
     "output_type": "execute_result"
    }
   ],
   "source": [
    "x_data = df2.split_text\n",
    "y_data = pd.get_dummies(df2.category)\n",
    "max_x_len = get_max_length(x_data)\n",
    "max_x_len"
   ]
  },
  {
   "cell_type": "code",
   "execution_count": 73,
   "metadata": {},
   "outputs": [],
   "source": [
    "# ENCODE REVIEW\n",
    "token = Tokenizer(lower=False)    # False becuase we already did it. \n",
    "\n",
    "# find formula to vectorize the text\n",
    "token.fit_on_texts(x_data)\n",
    "\n",
    "# converting text into vector\n",
    "x_token = token.texts_to_sequences(x_data)\n",
    "\n",
    "### this is the code to add the pad to x_train\n",
    "x_token_pad = pad_sequences(x_token, maxlen=max_x_len, padding='post', truncating='post')\n",
    "\n",
    "total_words = len(token.word_index) + 1   # we need to add 1 because of 0 padding"
   ]
  },
  {
   "cell_type": "code",
   "execution_count": 78,
   "metadata": {},
   "outputs": [],
   "source": [
    "# train test split\n",
    "X_train, X_test, y_train, y_test = train_test_split(x_token_pad, y_data, test_size=0.25, random_state=42)"
   ]
  },
  {
   "cell_type": "code",
   "execution_count": 101,
   "metadata": {},
   "outputs": [
    {
     "data": {
      "text/plain": [
       "(154945, 16)"
      ]
     },
     "execution_count": 101,
     "metadata": {},
     "output_type": "execute_result"
    }
   ],
   "source": [
    "X_train.shape"
   ]
  },
  {
   "cell_type": "code",
   "execution_count": 102,
   "metadata": {},
   "outputs": [
    {
     "data": {
      "text/plain": [
       "(154945, 3)"
      ]
     },
     "execution_count": 102,
     "metadata": {},
     "output_type": "execute_result"
    }
   ],
   "source": [
    "y_train.shape"
   ]
  },
  {
   "cell_type": "code",
   "execution_count": 74,
   "metadata": {},
   "outputs": [],
   "source": [
    "# saving to pickle file\n",
    "with open('output/token_model1.pickle', 'wb') as handle:\n",
    "    pickle.dump(token, handle, protocol=pickle.HIGHEST_PROTOCOL)\n",
    "\n",
    "# loading from pickle file\n",
    "with open('output/token_model1.pickle', 'rb') as handle:\n",
    "    token = pickle.load(handle)"
   ]
  },
  {
   "cell_type": "markdown",
   "metadata": {},
   "source": [
    "### Deep Learning"
   ]
  },
  {
   "cell_type": "markdown",
   "metadata": {},
   "source": [
    "#### Embedding with LSTM"
   ]
  },
  {
   "cell_type": "code",
   "execution_count": 124,
   "metadata": {},
   "outputs": [
    {
     "name": "stdout",
     "output_type": "stream",
     "text": [
      "You must install pydot (`pip install pydot`) and install graphviz (see instructions at https://graphviz.gitlab.io/download/) for plot_model/model_to_dot to work.\n",
      "Model: \"sequential_17\"\n",
      "_________________________________________________________________\n",
      " Layer (type)                Output Shape              Param #   \n",
      "=================================================================\n",
      " embedding_16 (Embedding)    (None, 16, 32)            3611296   \n",
      "                                                                 \n",
      " dropout_48 (Dropout)        (None, 16, 32)            0         \n",
      "                                                                 \n",
      " lstm_20 (LSTM)              (None, 81)                36936     \n",
      "                                                                 \n",
      " dropout_49 (Dropout)        (None, 81)                0         \n",
      "                                                                 \n",
      " dense_32 (Dense)            (None, 27)                2214      \n",
      "                                                                 \n",
      " dropout_50 (Dropout)        (None, 27)                0         \n",
      "                                                                 \n",
      " dense_33 (Dense)            (None, 9)                 252       \n",
      "                                                                 \n",
      " dropout_51 (Dropout)        (None, 9)                 0         \n",
      "                                                                 \n",
      " dense_34 (Dense)            (None, 3)                 30        \n",
      "                                                                 \n",
      "=================================================================\n",
      "Total params: 3,650,728\n",
      "Trainable params: 3,650,728\n",
      "Non-trainable params: 0\n",
      "_________________________________________________________________\n",
      "Epoch 1/10\n",
      "2421/2422 [============================>.] - ETA: 0s - loss: 0.4921 - accuracy: 0.6213\n",
      "Epoch 1: accuracy improved from -inf to 0.62127, saving model to output\\LSTM.h5\n",
      "2422/2422 [==============================] - 123s 50ms/step - loss: 0.4921 - accuracy: 0.6213 - val_loss: 0.3960 - val_accuracy: 0.6944\n",
      "Epoch 2/10\n",
      "2422/2422 [==============================] - ETA: 0s - loss: 0.3666 - accuracy: 0.7619\n",
      "Epoch 2: accuracy improved from 0.62127 to 0.76193, saving model to output\\LSTM.h5\n",
      "2422/2422 [==============================] - 119s 49ms/step - loss: 0.3666 - accuracy: 0.7619 - val_loss: 0.3169 - val_accuracy: 0.8094\n",
      "Epoch 3/10\n",
      "2421/2422 [============================>.] - ETA: 0s - loss: 0.3078 - accuracy: 0.8192\n",
      "Epoch 3: accuracy improved from 0.76193 to 0.81919, saving model to output\\LSTM.h5\n",
      "2422/2422 [==============================] - 120s 49ms/step - loss: 0.3078 - accuracy: 0.8192 - val_loss: 0.3034 - val_accuracy: 0.8110\n",
      "Epoch 4/10\n",
      "2421/2422 [============================>.] - ETA: 0s - loss: 0.2772 - accuracy: 0.8413\n",
      "Epoch 4: accuracy improved from 0.81919 to 0.84134, saving model to output\\LSTM.h5\n",
      "2422/2422 [==============================] - 120s 49ms/step - loss: 0.2772 - accuracy: 0.8413 - val_loss: 0.3043 - val_accuracy: 0.8101\n",
      "Epoch 5/10\n",
      "2421/2422 [============================>.] - ETA: 0s - loss: 0.2530 - accuracy: 0.8573\n",
      "Epoch 5: accuracy improved from 0.84134 to 0.85728, saving model to output\\LSTM.h5\n",
      "2422/2422 [==============================] - 119s 49ms/step - loss: 0.2530 - accuracy: 0.8573 - val_loss: 0.3103 - val_accuracy: 0.8106\n",
      "Epoch 6/10\n",
      "2421/2422 [============================>.] - ETA: 0s - loss: 0.2338 - accuracy: 0.8703\n",
      "Epoch 6: accuracy improved from 0.85728 to 0.87028, saving model to output\\LSTM.h5\n",
      "2422/2422 [==============================] - 120s 49ms/step - loss: 0.2338 - accuracy: 0.8703 - val_loss: 0.3304 - val_accuracy: 0.8067\n",
      "Epoch 7/10\n",
      "2422/2422 [==============================] - ETA: 0s - loss: 0.2168 - accuracy: 0.8810\n",
      "Epoch 7: accuracy improved from 0.87028 to 0.88100, saving model to output\\LSTM.h5\n",
      "2422/2422 [==============================] - 119s 49ms/step - loss: 0.2168 - accuracy: 0.8810 - val_loss: 0.3336 - val_accuracy: 0.8038\n",
      "Epoch 8/10\n",
      "2421/2422 [============================>.] - ETA: 0s - loss: 0.2039 - accuracy: 0.8892\n",
      "Epoch 8: accuracy improved from 0.88100 to 0.88919, saving model to output\\LSTM.h5\n",
      "2422/2422 [==============================] - 96s 40ms/step - loss: 0.2038 - accuracy: 0.8892 - val_loss: 0.3631 - val_accuracy: 0.7972\n",
      "Epoch 9/10\n",
      "2422/2422 [==============================] - ETA: 0s - loss: 0.1900 - accuracy: 0.8969\n",
      "Epoch 9: accuracy improved from 0.88919 to 0.89689, saving model to output\\LSTM.h5\n",
      "2422/2422 [==============================] - 96s 40ms/step - loss: 0.1900 - accuracy: 0.8969 - val_loss: 0.3523 - val_accuracy: 0.7990\n",
      "Epoch 10/10\n",
      "2421/2422 [============================>.] - ETA: 0s - loss: 0.1797 - accuracy: 0.9027\n",
      "Epoch 10: accuracy improved from 0.89689 to 0.90273, saving model to output\\LSTM.h5\n",
      "2422/2422 [==============================] - 96s 40ms/step - loss: 0.1797 - accuracy: 0.9027 - val_loss: 0.3807 - val_accuracy: 0.7934\n"
     ]
    }
   ],
   "source": [
    "# ARCHITECTURE\n",
    "EMBED_DIM = 32\n",
    "\n",
    "#### add the model here:\n",
    "lstm = Sequential()\n",
    "# Embedding - common application is for text processing, changing integer into vectors\n",
    "lstm.add(Embedding(total_words,EMBED_DIM,\n",
    "                  input_length=max_x_len))\n",
    "lstm.add(Dropout(0.2))\n",
    "lstm.add(LSTM(units=81, dropout=0.2, recurrent_dropout=0.2))\n",
    "lstm.add(Dropout(0.2))\n",
    "lstm.add(Dense(27, activation='sigmoid'))\n",
    "lstm.add(Dropout(0.2))\n",
    "lstm.add(Dense(9, activation='sigmoid'))\n",
    "lstm.add(Dropout(0.2))\n",
    "lstm.add(Dense(3, activation='softmax'))\n",
    "\n",
    "# show a graph of model\n",
    "tf.keras.utils.plot_model(lstm, show_shapes=True)\n",
    "\n",
    "### compile the model using: optimizer = 'adam', loss = 'binary_crossentropy', metrics = ['accuracy']\n",
    "lstm.compile(optimizer='adam', loss='binary_crossentropy', metrics=['accuracy'])\n",
    "lstm.summary()\n",
    "# Save model checkpoint and save best only\n",
    "checkpoint = ModelCheckpoint('output/LSTM.h5', monitor='accuracy', save_best_only=True, verbose=1)\n",
    "# fit and train model, call back based on checkpoint(best model)\n",
    "history = lstm.fit(X_train, y_train, epochs=10, batch_size=64, validation_data=(X_test, y_test), callbacks=[checkpoint])"
   ]
  },
  {
   "cell_type": "code",
   "execution_count": 125,
   "metadata": {},
   "outputs": [
    {
     "data": {
      "text/plain": [
       "<matplotlib.legend.Legend at 0x21944a33f40>"
      ]
     },
     "execution_count": 125,
     "metadata": {},
     "output_type": "execute_result"
    },
    {
     "data": {
      "image/png": "[encoded data removed]",
      "text/plain": [
       "<Figure size 864x432 with 1 Axes>"
      ]
     },
     "metadata": {},
     "output_type": "display_data"
    }
   ],
   "source": [
    "plt.figure(figsize=(12,6))\n",
    "plt.plot(lstm.history.history['loss'][:])\n",
    "plt.plot(lstm.history.history['val_loss'][:])\n",
    "plt.title('Model loss')\n",
    "plt.xlabel('epoch')\n",
    "plt.ylabel('loss (categorical_crossentropy)')\n",
    "plt.legend(['Train', 'Val'], loc='upper right')"
   ]
  },
  {
   "cell_type": "markdown",
   "metadata": {},
   "source": [
    "#### Embedding, Conv1D with Bidirectional LSTM"
   ]
  },
  {
   "cell_type": "code",
   "execution_count": 117,
   "metadata": {},
   "outputs": [
    {
     "name": "stdout",
     "output_type": "stream",
     "text": [
      "You must install pydot (`pip install pydot`) and install graphviz (see instructions at https://graphviz.gitlab.io/download/) for plot_model/model_to_dot to work.\n",
      "Model: \"sequential_16\"\n",
      "_________________________________________________________________\n",
      " Layer (type)                Output Shape              Param #   \n",
      "=================================================================\n",
      " embedding_15 (Embedding)    (None, 16, 32)            3611296   \n",
      "                                                                 \n",
      " conv1d_9 (Conv1D)           (None, 16, 32)            3104      \n",
      "                                                                 \n",
      " spatial_dropout1d_1 (Spatia  (None, 16, 32)           0         \n",
      " lDropout1D)                                                     \n",
      "                                                                 \n",
      " max_pooling1d_9 (MaxPooling  (None, 8, 32)            0         \n",
      " 1D)                                                             \n",
      "                                                                 \n",
      " bidirectional_9 (Bidirectio  (None, 64)               16640     \n",
      " nal)                                                            \n",
      "                                                                 \n",
      " dropout_46 (Dropout)        (None, 64)                0         \n",
      "                                                                 \n",
      " dense_30 (Dense)            (None, 16)                1040      \n",
      "                                                                 \n",
      " dropout_47 (Dropout)        (None, 16)                0         \n",
      "                                                                 \n",
      " dense_31 (Dense)            (None, 3)                 51        \n",
      "                                                                 \n",
      "=================================================================\n",
      "Total params: 3,632,131\n",
      "Trainable params: 3,632,131\n",
      "Non-trainable params: 0\n",
      "_________________________________________________________________\n"
     ]
    }
   ],
   "source": [
    "#### add the model here:\n",
    "model = Sequential()\n",
    "model.add(Embedding(total_words,EMBED_DIM, input_length=max_x_len))\n",
    "# Conv1D is for regression, Conv2D is for images, Conv3D\n",
    "model.add(Conv1D(filters=32, kernel_size=3, padding='same'))\n",
    "model.add(SpatialDropout1D(0.2))\n",
    "model.add(MaxPooling1D(pool_size=2))\n",
    "# since maxpooling returns 3dimension, we dont need reshape, if we connect to regular NN, we should flatten to change shape into 2D\n",
    "# model.add(Flatten)\n",
    "model.add(Bidirectional(LSTM(32)))\n",
    "model.add(Dropout(0.2))\n",
    "model.add(Dense(16, activation='sigmoid'))\n",
    "model.add(Dropout(0.2))\n",
    "# dense 3 output is based on y dimension, this y dimension is (_, 3)\n",
    "model.add(Dense(3, activation='softmax'))\n",
    "# model.add(Dropout(0.2))\n",
    "# model.add(Dense(1, activation='softmax'))\n",
    "\n",
    "# show a graph of model\n",
    "tf.keras.utils.plot_model(model, show_shapes=True)\n",
    "\n",
    "### compile the model using: optimizer = 'adam', loss = 'binary_crossentropy', metrics = ['accuracy']\n",
    "model.compile(optimizer='adam', loss='binary_crossentropy', metrics=['accuracy', Precision(), Recall()])\n",
    "model.summary()"
   ]
  },
  {
   "cell_type": "code",
   "execution_count": 119,
   "metadata": {},
   "outputs": [
    {
     "name": "stdout",
     "output_type": "stream",
     "text": [
      "Epoch 1/10\n",
      "2422/2422 [==============================] - ETA: 0s - loss: 0.3294 - accuracy: 0.8052 - precision_2: 0.8196 - recall_2: 0.7892\n",
      "Epoch 1: accuracy improved from -inf to 0.80517, saving model to output\\convBiLSTM.h5\n",
      "2422/2422 [==============================] - 105s 43ms/step - loss: 0.3294 - accuracy: 0.8052 - precision_2: 0.8196 - recall_2: 0.7892 - val_loss: 0.2967 - val_accuracy: 0.8141 - val_precision_2: 0.8260 - val_recall_2: 0.8030\n",
      "Epoch 2/10\n",
      "2422/2422 [==============================] - ETA: 0s - loss: 0.2711 - accuracy: 0.8422 - precision_2: 0.8553 - recall_2: 0.8281\n",
      "Epoch 2: accuracy improved from 0.80517 to 0.84216, saving model to output\\convBiLSTM.h5\n",
      "2422/2422 [==============================] - 94s 39ms/step - loss: 0.2711 - accuracy: 0.8422 - precision_2: 0.8553 - recall_2: 0.8281 - val_loss: 0.2972 - val_accuracy: 0.8110 - val_precision_2: 0.8253 - val_recall_2: 0.7978\n",
      "Epoch 3/10\n",
      "2422/2422 [==============================] - ETA: 0s - loss: 0.2293 - accuracy: 0.8706 - precision_2: 0.8826 - recall_2: 0.8583\n",
      "Epoch 3: accuracy improved from 0.84216 to 0.87062, saving model to output\\convBiLSTM.h5\n",
      "2422/2422 [==============================] - 94s 39ms/step - loss: 0.2293 - accuracy: 0.8706 - precision_2: 0.8826 - recall_2: 0.8583 - val_loss: 0.3151 - val_accuracy: 0.8068 - val_precision_2: 0.8196 - val_recall_2: 0.7944\n",
      "Epoch 4/10\n",
      "2422/2422 [==============================] - ETA: 0s - loss: 0.1964 - accuracy: 0.8897 - precision_2: 0.9012 - recall_2: 0.8793\n",
      "Epoch 4: accuracy improved from 0.87062 to 0.88970, saving model to output\\convBiLSTM.h5\n",
      "2422/2422 [==============================] - 95s 39ms/step - loss: 0.1964 - accuracy: 0.8897 - precision_2: 0.9012 - recall_2: 0.8793 - val_loss: 0.3409 - val_accuracy: 0.8016 - val_precision_2: 0.8122 - val_recall_2: 0.7908\n",
      "Epoch 5/10\n",
      "2421/2422 [============================>.] - ETA: 0s - loss: 0.1701 - accuracy: 0.9055 - precision_2: 0.9161 - recall_2: 0.8962\n",
      "Epoch 5: accuracy improved from 0.88970 to 0.90553, saving model to output\\convBiLSTM.h5\n",
      "2422/2422 [==============================] - 95s 39ms/step - loss: 0.1701 - accuracy: 0.9055 - precision_2: 0.9161 - recall_2: 0.8962 - val_loss: 0.3828 - val_accuracy: 0.7974 - val_precision_2: 0.8072 - val_recall_2: 0.7878\n",
      "Epoch 6/10\n",
      "2421/2422 [============================>.] - ETA: 0s - loss: 0.1494 - accuracy: 0.9174 - precision_2: 0.9279 - recall_2: 0.9078\n",
      "Epoch 6: accuracy improved from 0.90553 to 0.91740, saving model to output\\convBiLSTM.h5\n",
      "2422/2422 [==============================] - 94s 39ms/step - loss: 0.1494 - accuracy: 0.9174 - precision_2: 0.9279 - recall_2: 0.9078 - val_loss: 0.4093 - val_accuracy: 0.7940 - val_precision_2: 0.8037 - val_recall_2: 0.7837\n",
      "Epoch 7/10\n",
      "2422/2422 [==============================] - ETA: 0s - loss: 0.1328 - accuracy: 0.9268 - precision_2: 0.9370 - recall_2: 0.9179\n",
      "Epoch 7: accuracy improved from 0.91740 to 0.92675, saving model to output\\convBiLSTM.h5\n",
      "2422/2422 [==============================] - 95s 39ms/step - loss: 0.1328 - accuracy: 0.9268 - precision_2: 0.9370 - recall_2: 0.9179 - val_loss: 0.4410 - val_accuracy: 0.7904 - val_precision_2: 0.8010 - val_recall_2: 0.7785\n",
      "Epoch 8/10\n",
      "2422/2422 [==============================] - ETA: 0s - loss: 0.1176 - accuracy: 0.9351 - precision_2: 0.9443 - recall_2: 0.9273\n",
      "Epoch 8: accuracy improved from 0.92675 to 0.93506, saving model to output\\convBiLSTM.h5\n",
      "2422/2422 [==============================] - 99s 41ms/step - loss: 0.1176 - accuracy: 0.9351 - precision_2: 0.9443 - recall_2: 0.9273 - val_loss: 0.4642 - val_accuracy: 0.7859 - val_precision_2: 0.7967 - val_recall_2: 0.7754\n",
      "Epoch 9/10\n",
      "2421/2422 [============================>.] - ETA: 0s - loss: 0.1081 - accuracy: 0.9407 - precision_2: 0.9493 - recall_2: 0.9332\n",
      "Epoch 9: accuracy improved from 0.93506 to 0.94073, saving model to output\\convBiLSTM.h5\n",
      "2422/2422 [==============================] - 95s 39ms/step - loss: 0.1081 - accuracy: 0.9407 - precision_2: 0.9493 - recall_2: 0.9332 - val_loss: 0.5152 - val_accuracy: 0.7817 - val_precision_2: 0.7901 - val_recall_2: 0.7732\n",
      "Epoch 10/10\n",
      "2421/2422 [============================>.] - ETA: 0s - loss: 0.0974 - accuracy: 0.9463 - precision_2: 0.9542 - recall_2: 0.9403\n",
      "Epoch 10: accuracy improved from 0.94073 to 0.94626, saving model to output\\convBiLSTM.h5\n",
      "2422/2422 [==============================] - 96s 39ms/step - loss: 0.0974 - accuracy: 0.9463 - precision_2: 0.9542 - recall_2: 0.9403 - val_loss: 0.5472 - val_accuracy: 0.7842 - val_precision_2: 0.7904 - val_recall_2: 0.7771\n"
     ]
    }
   ],
   "source": [
    "# tensor board log\n",
    "log_dir = \"logs/fit/\" + dt.datetime.now().strftime(\"%Y%m%d-%H%M%S\")\n",
    "tensorboard_callback = tf.keras.callbacks.TensorBoard(log_dir=log_dir, histogram_freq=1)\n",
    "\n",
    "# Save model checkpoint and save best only\n",
    "checkpoint = ModelCheckpoint('output/convBiLSTM.h5', monitor='accuracy', save_best_only=True, verbose=1)\n",
    "# fit and train model, call back based on checkpoint(best model)\n",
    "history = model.fit(X_train, y_train, epochs=10, batch_size=64, validation_data=(X_test, y_test), callbacks=[checkpoint])"
   ]
  },
  {
   "cell_type": "code",
   "execution_count": 120,
   "metadata": {},
   "outputs": [
    {
     "data": {
      "text/plain": [
       "Reusing TensorBoard on port 6006 (pid 2548), started 0:14:53 ago. (Use '!kill 2548' to kill it.)"
      ]
     },
     "metadata": {},
     "output_type": "display_data"
    },
    {
     "data": {
      "text/html": [
       "\n",
       "      <iframe id=\"tensorboard-frame-e5a407b003231250\" width=\"100%\" height=\"800\" frameborder=\"0\">\n",
       "      </iframe>\n",
       "      <script>\n",
       "        (function() {\n",
       "          const frame = document.getElementById(\"tensorboard-frame-e5a407b003231250\");\n",
       "          const url = new URL(\"http://localhost\");\n",
       "          const port = 6006;\n",
       "          if (port) {\n",
       "            url.port = port;\n",
       "          }\n",
       "          frame.src = url;\n",
       "        })();\n",
       "      </script>\n",
       "    "
      ],
      "text/plain": [
       "<IPython.core.display.HTML object>"
      ]
     },
     "metadata": {},
     "output_type": "display_data"
    }
   ],
   "source": [
    "%load_ext tensorboard\n",
    "\n",
    "%tensorboard --logdir logs/fit"
   ]
  },
  {
   "cell_type": "code",
   "execution_count": 122,
   "metadata": {},
   "outputs": [
    {
     "data": {
      "text/plain": [
       "<matplotlib.legend.Legend at 0x21944b20e80>"
      ]
     },
     "execution_count": 122,
     "metadata": {},
     "output_type": "execute_result"
    },
    {
     "data": {
      "image/png": "[encoded data removed]",
      "text/plain": [
       "<Figure size 864x432 with 1 Axes>"
      ]
     },
     "metadata": {},
     "output_type": "display_data"
    }
   ],
   "source": [
    "plt.figure(figsize=(12,6))\n",
    "plt.plot(model.history.history['loss'][:])\n",
    "plt.plot(model.history.history['val_loss'][:])\n",
    "plt.title('Model loss')\n",
    "plt.xlabel('epoch')\n",
    "plt.ylabel('loss (categorical_crossentropy)')\n",
    "plt.legend(['Train', 'Val'], loc='upper right')"
   ]
  },
  {
   "cell_type": "code",
   "execution_count": null,
   "metadata": {},
   "outputs": [],
   "source": []
  }
 ],
 "metadata": {
  "interpreter": {
   "hash": "b4dc6631ffef5a733ac58430eb0e8cf8f73f165587c4c3dfb32dbf0eaaadea6b"
  },
  "kernelspec": {
   "display_name": "desktop_env",
   "language": "python",
   "name": "desktop_env"
  },
  "language_info": {
   "codemirror_mode": {
    "name": "ipython",
    "version": 3
   },
   "file_extension": ".py",
   "mimetype": "text/x-python",
   "name": "python",
   "nbconvert_exporter": "python",
   "pygments_lexer": "ipython3",
   "version": "3.9.6"
  },
  "orig_nbformat": 4
 },
 "nbformat": 4,
 "nbformat_minor": 2
}
