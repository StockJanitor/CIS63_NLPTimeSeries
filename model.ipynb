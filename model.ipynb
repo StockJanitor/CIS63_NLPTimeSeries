{
 "cells": [
  {
   "cell_type": "code",
   "execution_count": 1,
   "metadata": {},
   "outputs": [],
   "source": [
    "# Data processing\n",
    "import pandas as pd\n",
    "import numpy as np\n",
    "\n",
    "# Data visualization\n",
    "import seaborn as sns\n",
    "import matplotlib.pyplot as plt\n",
    "import matplotlib as mpl\n",
    "sns.set_theme(style=\"whitegrid\") # all charts will have a light grid\n",
    "# from wordcloud import WordCloud, STOPWORDS\n",
    "from nltk.probability import FreqDist\n",
    "\n",
    "# Text Preprocessing\n",
    "import re\n",
    "import string\n",
    "import nltk\n",
    "from nltk.corpus import stopwords \n",
    "# nltk.download('stopwords')\n",
    "# nltk.download('words')\n",
    "words = set(nltk.corpus.words.words())\n",
    "import spacy\n",
    "from spacy import displacy\n",
    "\n",
    "# Text valuation/detection\n",
    "import langid\n",
    "from nltk.sentiment.vader import SentimentIntensityAnalyzer as SIA\n",
    "\n",
    "\n",
    "# Misc\n",
    "import os\n",
    "import glob\n",
    "import warnings\n",
    "warnings.filterwarnings(\"ignore\")"
   ]
  },
  {
   "cell_type": "code",
   "execution_count": null,
   "metadata": {},
   "outputs": [],
   "source": [
    "pathOfData = 'data_model/' \n",
    "# saves path all file name to variable all_files\n",
    "all_files = glob.glob(os.path.join(pathOfData , \"*.csv\"))\n",
    "#initiate a list\n",
    "list1 = []\n",
    "\n",
    "# loop all files to append each file to list\n",
    "for b in all_files:\n",
    "    df = pd.read_csv(b, index_col=None, header=0)\n",
    "    list1.append(df)\n",
    "\n",
    "# concat all files\n",
    "merged_df = pd.concat(list1, axis=0, ignore_index=True)\n",
    "merged_df.shape"
   ]
  }
 ],
 "metadata": {
  "interpreter": {
   "hash": "b4dc6631ffef5a733ac58430eb0e8cf8f73f165587c4c3dfb32dbf0eaaadea6b"
  },
  "kernelspec": {
   "display_name": "Python 3.10.2 ('desktop_env')",
   "language": "python",
   "name": "python3"
  },
  "language_info": {
   "codemirror_mode": {
    "name": "ipython",
    "version": 3
   },
   "file_extension": ".py",
   "mimetype": "text/x-python",
   "name": "python",
   "nbconvert_exporter": "python",
   "pygments_lexer": "ipython3",
   "version": "3.10.2"
  },
  "orig_nbformat": 4
 },
 "nbformat": 4,
 "nbformat_minor": 2
}
